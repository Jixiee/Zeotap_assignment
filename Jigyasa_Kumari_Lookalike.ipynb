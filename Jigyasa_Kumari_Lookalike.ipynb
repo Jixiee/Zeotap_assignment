{
 "cells": [
  {
   "cell_type": "code",
   "execution_count": 1,
   "metadata": {},
   "outputs": [
    {
     "name": "stdout",
     "output_type": "stream",
     "text": [
      "  CustomerID                                        Lookalikes\n",
      "0      C0001  [(C0035, 0.982), (C0146, 0.977), (C0069, 0.963)]\n",
      "1      C0002   [(C0144, 0.997), (C0133, 0.996), (C0134, 0.97)]\n",
      "2      C0003  [(C0166, 0.997), (C0031, 0.993), (C0158, 0.987)]\n",
      "3      C0004  [(C0113, 0.981), (C0017, 0.972), (C0041, 0.969)]\n",
      "4      C0005   [(C0007, 0.999), (C0197, 0.998), (C0069, 0.96)]\n"
     ]
    }
   ],
   "source": [
    "import pandas as pd\n",
    "from sklearn.feature_extraction.text import TfidfVectorizer\n",
    "from sklearn.metrics.pairwise import cosine_similarity\n",
    "\n",
    "# Load datasets\n",
    "customers_file = 'Customers.csv'\n",
    "transactions_file = 'Transactions.csv'\n",
    "products_file = 'Products.csv'\n",
    "\n",
    "customers_df = pd.read_csv(customers_file)\n",
    "transactions_df = pd.read_csv(transactions_file)\n",
    "products_df = pd.read_csv(products_file)\n",
    "\n",
    "# Preprocess dates\n",
    "customers_df['SignupDate'] = pd.to_datetime(customers_df['SignupDate'])\n",
    "transactions_df['TransactionDate'] = pd.to_datetime(transactions_df['TransactionDate'])\n",
    "\n",
    "# Merge transactions with products to include product details\n",
    "transactions_merged = transactions_df.merge(products_df, on='ProductID')\n",
    "\n",
    "# Aggregate customer transaction data\n",
    "customer_transactions = transactions_merged.groupby('CustomerID').agg({\n",
    "    'TotalValue': 'sum',  # Total spending\n",
    "    'Quantity': 'sum',  # Total quantity purchased\n",
    "    'Category': lambda x: ' '.join(x)  # Combine categories for TF-IDF\n",
    "}).reset_index()\n",
    "\n",
    "# Merge customer transaction data with customer profiles\n",
    "customers_combined = customers_df.merge(customer_transactions, on='CustomerID', how='left')\n",
    "\n",
    "# Handle missing values (if any)\n",
    "customers_combined.fillna({'TotalValue': 0, 'Quantity': 0, 'Category': ''}, inplace=True)\n",
    "\n",
    "# TF-IDF encoding for product categories\n",
    "tfidf = TfidfVectorizer()\n",
    "category_tfidf = tfidf.fit_transform(customers_combined['Category'])\n",
    "\n",
    "# Create a feature set combining numerical and categorical data\n",
    "features = pd.DataFrame(category_tfidf.toarray(), index=customers_combined.index)\n",
    "features['TotalValue'] = customers_combined['TotalValue']\n",
    "features['Quantity'] = customers_combined['Quantity']\n",
    "\n",
    "# Normalize numerical features\n",
    "features[['TotalValue', 'Quantity']] = (features[['TotalValue', 'Quantity']] - \n",
    "                                        features[['TotalValue', 'Quantity']].min()) / (\n",
    "                                        features[['TotalValue', 'Quantity']].max() - \n",
    "                                        features[['TotalValue', 'Quantity']].min())\n",
    "\n",
    "# Compute similarity scores using cosine similarity\n",
    "similarity_matrix = cosine_similarity(features)\n",
    "\n",
    "# Generate recommendations for the first 20 customers\n",
    "lookalikes = {}\n",
    "for idx, customer_id in enumerate(customers_combined['CustomerID'][:20]):\n",
    "    customer_index = customers_combined.index[customers_combined['CustomerID'] == customer_id][0]\n",
    "    similarity_scores = list(enumerate(similarity_matrix[customer_index]))\n",
    "    # Sort by similarity score, excluding the customer itself\n",
    "    similar_customers = sorted(similarity_scores, key=lambda x: x[1], reverse=True)[1:4]\n",
    "    lookalikes[customer_id] = [(customers_combined['CustomerID'][i], round(score, 3)) \n",
    "                                for i, score in similar_customers]\n",
    "\n",
    "# Convert lookalikes to DataFrame and save as CSV\n",
    "lookalikes_df = pd.DataFrame([\n",
    "    {'CustomerID': customer, 'Lookalikes': lookalike_list} \n",
    "    for customer, lookalike_list in lookalikes.items()\n",
    "])\n",
    "lookalikes_df.to_csv('Lookalike.csv', index=False)\n",
    "\n",
    "# Output\n",
    "print(lookalikes_df.head())\n"
   ]
  }
 ],
 "metadata": {
  "kernelspec": {
   "display_name": "base",
   "language": "python",
   "name": "python3"
  },
  "language_info": {
   "codemirror_mode": {
    "name": "ipython",
    "version": 3
   },
   "file_extension": ".py",
   "mimetype": "text/x-python",
   "name": "python",
   "nbconvert_exporter": "python",
   "pygments_lexer": "ipython3",
   "version": "3.11.4"
  }
 },
 "nbformat": 4,
 "nbformat_minor": 2
}
